{
 "cells": [
  {
   "cell_type": "code",
   "execution_count": 35,
   "id": "807ff1d2",
   "metadata": {},
   "outputs": [],
   "source": [
    "#array 2 dimensi diambil dari array 1 dimensi\n",
    "from TDA_Array import Array"
   ]
  },
  {
   "cell_type": "code",
   "execution_count": 36,
   "id": "016c802f",
   "metadata": {},
   "outputs": [],
   "source": [
    "class Array2d : \n",
    "    # Creates a 2-D array of size numRows x numCols\n",
    "    def __init__( self, numRows, numCols ):\n",
    "        # Create a 1-D array to store an array reference for each row. \n",
    "        self._theRows = Array( numRows )\n",
    "    \n",
    "        # Create the 1-D arrays for each row of the 2-D array.\n",
    "        for i in range( numRows ) :\n",
    "            self._theRows[i] = Array( numCols )\n",
    "    \n",
    "    # Returns the number of rows in the 2-D array.\n",
    "    def numRows( self ): \n",
    "        return len( self._theRows ) \n",
    "    \n",
    "    # Returns the number of columns in the 2-D array.\n",
    "    def numCols( self ):\n",
    "        return len( self._theRows[0] )\n",
    "    \n",
    "    # Gets the contents of the element at position [i, j] \n",
    "    def __getitem__( self, ndxTuple ):\n",
    "        assert len(ndxTuple) == 2, \"Invalid number of array subscripts.\" \n",
    "        row = ndxTuple[0]\n",
    "        col = ndxTuple[1]\n",
    "        assert row >= 0 and row < self.numRows() and col >= 0 and col < self.numCols(), \\\n",
    "        \"Array subscript out of range.\"\n",
    "        the1dArray = self._theRows[row]\n",
    "        return the1dArray[col]\n",
    "    \n",
    "    # Sets the contents of the element at position [i,j] to value\n",
    "    def __setitem__( self, ndxTuple, value ):\n",
    "        assert len(ndxTuple) == 2, \"Invalid number of array subscripts.\" \n",
    "        row = ndxTuple[0]\n",
    "        col = ndxTuple[1]\n",
    "        assert row >= 0 and row < self.numRows() and col >= 0 and col < self.numCols(), \\\n",
    "        \"Array subscript out of range.\"\n",
    "        the1dArray = self._theRows[row]\n",
    "        the1dArray[col] = value\n",
    "    \n",
    "    # Clears the array by setting every element to the given value. \n",
    "    def clear( self, value ):\n",
    "        for x in self._theRows:\n",
    "            x.clear( value ) # clear operation of 1 dim Array"
   ]
  },
  {
   "cell_type": "code",
   "execution_count": 37,
   "id": "2805d4ba",
   "metadata": {},
   "outputs": [],
   "source": [
    "a = Array2d(3,5) #3 baris 5 kolom"
   ]
  },
  {
   "cell_type": "code",
   "execution_count": 38,
   "id": "cfbb7a97",
   "metadata": {},
   "outputs": [
    {
     "data": {
      "text/plain": [
       "3"
      ]
     },
     "execution_count": 38,
     "metadata": {},
     "output_type": "execute_result"
    }
   ],
   "source": [
    "a.numRows() #outputnya 3"
   ]
  },
  {
   "cell_type": "code",
   "execution_count": 39,
   "id": "5d1e9917",
   "metadata": {},
   "outputs": [
    {
     "data": {
      "text/plain": [
       "5"
      ]
     },
     "execution_count": 39,
     "metadata": {},
     "output_type": "execute_result"
    }
   ],
   "source": [
    "a.numCols() #outpunya 5"
   ]
  },
  {
   "cell_type": "code",
   "execution_count": 40,
   "id": "965d0be5",
   "metadata": {},
   "outputs": [],
   "source": [
    "#clear\n",
    "a.clear(6)"
   ]
  },
  {
   "cell_type": "code",
   "execution_count": 41,
   "id": "66504420",
   "metadata": {},
   "outputs": [
    {
     "data": {
      "text/plain": [
       "6"
      ]
     },
     "execution_count": 41,
     "metadata": {},
     "output_type": "execute_result"
    }
   ],
   "source": [
    "a[0,0] #outputnya bisa ke cell baru, setItem udh dibuat outputnya 7, klo udh di clear jadinya 6"
   ]
  },
  {
   "cell_type": "code",
   "execution_count": 42,
   "id": "5cd9ec46",
   "metadata": {},
   "outputs": [],
   "source": [
    "#getitem\n",
    "a[0,0]=7 #outputnya akan error karena setItemnya belum ditambahin, setItem udh dibuat, hatusnya gamasalah"
   ]
  },
  {
   "cell_type": "code",
   "execution_count": 43,
   "id": "d48beee1",
   "metadata": {},
   "outputs": [],
   "source": [
    "#semua di run dulu"
   ]
  },
  {
   "cell_type": "code",
   "execution_count": 13,
   "id": "c23b8486",
   "metadata": {},
   "outputs": [
    {
     "name": "stdout",
     "output_type": "stream",
     "text": [
      "0 0 7\n",
      "0 1 6\n",
      "0 2 6\n",
      "0 3 6\n",
      "0 4 6\n",
      "1 0 6\n",
      "1 1 6\n",
      "1 2 6\n",
      "1 3 6\n",
      "1 4 6\n",
      "2 0 6\n",
      "2 1 6\n",
      "2 2 6\n",
      "2 3 6\n",
      "2 4 6\n"
     ]
    }
   ],
   "source": [
    "for r in range(a.numRows()):\n",
    "    for c in range(a.numCols()):\n",
    "        print(r,c,a[r,c])"
   ]
  }
 ],
 "metadata": {
  "kernelspec": {
   "display_name": "Python 3 (ipykernel)",
   "language": "python",
   "name": "python3"
  },
  "language_info": {
   "codemirror_mode": {
    "name": "ipython",
    "version": 3
   },
   "file_extension": ".py",
   "mimetype": "text/x-python",
   "name": "python",
   "nbconvert_exporter": "python",
   "pygments_lexer": "ipython3",
   "version": "3.11.5"
  }
 },
 "nbformat": 4,
 "nbformat_minor": 5
}
