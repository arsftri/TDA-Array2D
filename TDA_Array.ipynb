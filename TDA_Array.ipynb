{
 "cells": [
  {
   "cell_type": "code",
   "execution_count": null,
   "id": "57465006",
   "metadata": {},
   "outputs": [],
   "source": [
    "import ctypes\n",
    "class Array :\n",
    "    # Creates an array with size elements.\n",
    "    def __init__( self, size ):\n",
    "        assert size > 0, \"Array size must be > 0\"\n",
    "        self._size = size\n",
    "        # Create the array structure using the ctypes module.\n",
    "        PyArrayType = ctypes.py_object * size\n",
    "        self._elements = PyArrayType()\n",
    "        # Initialize each element.\n",
    "        self.clear( None )\n",
    "    # Returns the size of the array.\n",
    "    def __len__( self ):\n",
    "        return self._size\n",
    "    # Returns the array's iterator for traversing the elements.\n",
    "    def __iter__( self ):\n",
    "        return self._ArrayIterator( self._elements )        \n",
    "    # Gets the contents of the index element.\n",
    "    def __getitem__( self, index ):\n",
    "        assert index >= 0 and index < len(self), \"Array subscript out of range\"\n",
    "        return self._elements[ index ] \n",
    "    # Puts the value in the array element at index position.\n",
    "    def __setitem__( self, index, value ):\n",
    "        assert index >= 0 and index < len(self), \"Array subscript out of range\"\n",
    "        self._elements[index] = value \n",
    "    # Clears the array by setting each element to the given value.\n",
    "    def clear( self, value ):\n",
    "        for i in range( len(self) ) :\n",
    "            self._elements[i] = value         \n",
    "    # An iterator for the Array ADT.\n",
    "    class _ArrayIterator :\n",
    "        def __init__( self, theArray ):\n",
    "            self._arrayRef = theArray\n",
    "            self._curNdx = 0\n",
    "        def __iter__( self ):\n",
    "            return self\n",
    "        def __next__( self ):\n",
    "            if self._curNdx < len( self._arrayRef ) :\n",
    "                entry = self._arrayRef[ self._curNdx ]\n",
    "                self._curNdx += 1\n",
    "                return entry\n",
    "            else :\n",
    "                raise StopIteration"
   ]
  }
 ],
 "metadata": {
  "kernelspec": {
   "display_name": "Python 3 (ipykernel)",
   "language": "python",
   "name": "python3"
  },
  "language_info": {
   "codemirror_mode": {
    "name": "ipython",
    "version": 3
   },
   "file_extension": ".py",
   "mimetype": "text/x-python",
   "name": "python",
   "nbconvert_exporter": "python",
   "pygments_lexer": "ipython3",
   "version": "3.11.5"
  }
 },
 "nbformat": 4,
 "nbformat_minor": 5
}
